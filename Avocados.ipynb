{
  "nbformat": 4,
  "nbformat_minor": 0,
  "metadata": {
    "colab": {
      "name": "Avocados.ipynb",
      "provenance": []
    },
    "kernelspec": {
      "name": "python3",
      "display_name": "Python 3"
    }
  },
  "cells": [
    {
      "cell_type": "code",
      "metadata": {
        "id": "o8VloitlZr66",
        "colab_type": "code",
        "colab": {
          "base_uri": "https://localhost:8080/",
          "height": 221
        },
        "outputId": "8042a481-fab0-48f4-e229-4410a50dc24e"
      },
      "source": [
        "!pip install kaggle\n",
        "!mkdir .kaggle"
      ],
      "execution_count": 20,
      "outputs": [
        {
          "output_type": "stream",
          "text": [
            "Requirement already satisfied: kaggle in /usr/local/lib/python3.6/dist-packages (1.5.6)\n",
            "Requirement already satisfied: requests in /usr/local/lib/python3.6/dist-packages (from kaggle) (2.23.0)\n",
            "Requirement already satisfied: python-slugify in /usr/local/lib/python3.6/dist-packages (from kaggle) (4.0.0)\n",
            "Requirement already satisfied: six>=1.10 in /usr/local/lib/python3.6/dist-packages (from kaggle) (1.12.0)\n",
            "Requirement already satisfied: tqdm in /usr/local/lib/python3.6/dist-packages (from kaggle) (4.41.1)\n",
            "Requirement already satisfied: certifi in /usr/local/lib/python3.6/dist-packages (from kaggle) (2020.4.5.2)\n",
            "Requirement already satisfied: python-dateutil in /usr/local/lib/python3.6/dist-packages (from kaggle) (2.8.1)\n",
            "Requirement already satisfied: urllib3<1.25,>=1.21.1 in /usr/local/lib/python3.6/dist-packages (from kaggle) (1.24.3)\n",
            "Requirement already satisfied: chardet<4,>=3.0.2 in /usr/local/lib/python3.6/dist-packages (from requests->kaggle) (3.0.4)\n",
            "Requirement already satisfied: idna<3,>=2.5 in /usr/local/lib/python3.6/dist-packages (from requests->kaggle) (2.9)\n",
            "Requirement already satisfied: text-unidecode>=1.3 in /usr/local/lib/python3.6/dist-packages (from python-slugify->kaggle) (1.3)\n",
            "mkdir: cannot create directory ‘.kaggle’: File exists\n"
          ],
          "name": "stdout"
        }
      ]
    },
    {
      "cell_type": "code",
      "metadata": {
        "id": "RzTwJpLabp5Y",
        "colab_type": "code",
        "colab": {
          "base_uri": "https://localhost:8080/",
          "height": 425
        },
        "outputId": "7b8149fc-8fad-410b-fd17-abc753a000cc"
      },
      "source": [
        "import json\n",
        "token = {\"username\":\"fatemehy\",\"key\":\"e6177841494493a99d3da8b61bab2fb1\"}\n",
        "with open('/content/.kaggle/kaggle.json', 'w') as file:\n",
        "    json.dump(token, file)\n",
        "!cp /content/.kaggle/kaggle.json ~/.kaggle/kaggle.json\n",
        "!kaggle config set -n path -v{/content}\n",
        "!chmod 600 /root/.kaggle/kaggle.json\n",
        "!kaggle datasets list"
      ],
      "execution_count": 21,
      "outputs": [
        {
          "output_type": "stream",
          "text": [
            "- path is now set to: {/content}\n",
            "Warning: Looks like you're using an outdated API Version, please consider updating (server 1.5.6 / client 1.5.4)\n",
            "ref                                                             title                                                size  lastUpdated          downloadCount  \n",
            "--------------------------------------------------------------  --------------------------------------------------  -----  -------------------  -------------  \n",
            "allen-institute-for-ai/CORD-19-research-challenge               COVID-19 Open Research Dataset Challenge (CORD-19)    3GB  2020-06-10 00:09:23           2985  \n",
            "roche-data-science-coalition/uncover                            UNCOVER COVID-19 Challenge                          179MB  2020-05-21 18:57:53           3203  \n",
            "kwullum/fatal-police-shootings-in-the-us                        Fatal Police Shootings in the US                      1MB  2017-09-22 19:18:21          15293  \n",
            "Cornell-University/arxiv                                        ArXiv Metadata                                        2GB  2020-05-06 23:18:35             70  \n",
            "longnguyen2306/bacteria-detection-with-darkfield-microscopy     Bacteria detection with darkfield microscopy        162MB  2020-06-08 10:31:54            108  \n",
            "batjoker/zomato-restaurants-hyderabad                           Zomato Restaurants Hyderabad                          1MB  2020-06-08 15:11:39            649  \n",
            "thoolihan/los-angeles-1992-riot-deaths-from-la-times            Los Angeles 1992 Riot Deaths from LA Times           16KB  2020-06-03 21:09:07              0  \n",
            "andrewmvd/global-education-statistics                           Global Education Statistics                          38MB  2020-06-06 04:35:48            722  \n",
            "sudalairajkumar/daily-temperature-of-major-cities               Daily Temperature of Major Cities                    13MB  2020-06-05 07:34:48           1546  \n",
            "cprete/covid19-open-datasets-for-brazil                         COVID-19 Open Datasets for Brazil                   139MB  2020-06-07 15:36:31            280  \n",
            "mohitkr05/global-significant-earthquake-database-from-2150bc    Global Significant Earthquake Database from 2150BC  216KB  2020-06-08 09:41:18              0  \n",
            "yash612/stockmarket-sentiment-dataset                           Stock-Market Sentiment Dataset                      201KB  2020-06-05 19:16:19            571  \n",
            "jpmiller/police-violence-in-the-us                              US Police Violence & Fatal Shootings                 19MB  2020-06-16 14:19:33            144  \n",
            "imdevskp/hiv-aids-dataset                                       HIV AIDS Dataset                                     37KB  2020-06-11 12:59:45            340  \n",
            "paultimothymooney/minneapolis-police-stops-and-police-violence  Minneapolis Police Stops and Police Violence          8MB  2020-06-17 20:54:56             10  \n",
            "benroshan/factors-affecting-campus-placement                    Campus Recruitment                                    5KB  2020-04-11 11:09:02           8126  \n",
            "bobbyscience/league-of-legends-diamond-ranked-games-10-min      League of Legends Diamond Ranked Games (10 min)     539KB  2020-04-13 13:53:02           3463  \n",
            "fireballbyedimyrnmom/us-counties-covid-19-dataset               US counties COVID 19 dataset                          2MB  2020-06-17 12:21:34             22  \n",
            "divyansh22/flight-delay-prediction                              January Flight Delay Prediction                      23MB  2020-04-14 13:15:41           2721  \n",
            "clmentbisaillon/fake-and-real-news-dataset                      Fake and real news dataset                           41MB  2020-03-26 18:51:15           7009  \n"
          ],
          "name": "stdout"
        }
      ]
    },
    {
      "cell_type": "code",
      "metadata": {
        "id": "sCxz9ZjDbxAa",
        "colab_type": "code",
        "colab": {
          "base_uri": "https://localhost:8080/",
          "height": 391
        },
        "outputId": "2c220dd8-96c3-4fc7-bbce-f727011dea4e"
      },
      "source": [
        "!kaggle datasets list -s avocado-prices\n",
        "!kaggle datasets download -d neuromusic/avocado-prices     -p /content\n",
        "!unzip \\*.zip"
      ],
      "execution_count": 22,
      "outputs": [
        {
          "output_type": "stream",
          "text": [
            "Warning: Looks like you're using an outdated API Version, please consider updating (server 1.5.6 / client 1.5.4)\n",
            "ref                                                   title                                              size  lastUpdated          downloadCount  \n",
            "----------------------------------------------------  ------------------------------------------------  -----  -------------------  -------------  \n",
            "neuromusic/avocado-prices                             Avocado Prices                                    629KB  2018-06-06 05:28:35          67929  \n",
            "alanluo418/avocado-prices-20152019                    The Price and Sales of Avocado                    920KB  2020-01-14 21:25:40            284  \n",
            "sayan11/avocado-prices                                Avocado Prices                                    629KB  2018-08-11 19:04:12            116  \n",
            "arunsankar/avocado                                    Avocado                                           845KB  2018-09-13 16:29:33             53  \n",
            "nahhii/pricesales-of-avocado-in-newyork-year20162019  Price&Sales of Avocado in New-York year2016-2019    2KB  2020-04-27 03:09:19             12  \n",
            "moltean/fruits                                        Fruits 360                                        760MB  2020-05-18 10:35:15           3047  \n",
            "dragonheir/basket-optimisation                        Basket Optimisation                                47KB  2017-12-28 09:26:12            305  \n",
            "sivaram1987/association-rule-learningapriori          Association Rule Learning-Apriori                  47KB  2019-05-22 14:02:00            241  \n",
            "ofrancisco/emoji-diet-nutritional-data-sr28           Emoji Diet Nutritional Data                         6KB  2018-06-25 06:29:01            628  \n",
            "roshansharma/market-basket-optimization               Market Basket Optimization                         47KB  2019-05-26 15:29:56           3535  \n",
            "hemanthkumar05/market-basket-optimization             Market Basket Optimization                         47KB  2020-04-27 13:34:09             30  \n",
            "haidang2001vn/basketball-data                         Basketball Data                                    47KB  2019-08-15 17:13:37             12  \n",
            "sayansinha123/sayan231                                sayan231                                           12MB  2019-07-26 08:49:26              2  \n",
            "shwetabh123/basketballoptimisation                    Basketballoptimisation                             47KB  2018-07-19 06:36:34             65  \n",
            "chandanabhatt/transactions                            Transactions                                       47KB  2019-09-28 15:17:24             13  \n",
            "saurabh1411/market-based-optimization                 MARKET BASED OPTIMIZATION                          47KB  2020-06-13 18:06:16              0  \n",
            "avocado-prices.zip: Skipping, found more recently modified local copy (use --force to force download)\n",
            "Archive:  avocado-prices.zip\n",
            "replace avocado.csv? [y]es, [n]o, [A]ll, [N]one, [r]ename: n\n"
          ],
          "name": "stdout"
        }
      ]
    },
    {
      "cell_type": "code",
      "metadata": {
        "id": "gLTgHzMgcpo5",
        "colab_type": "code",
        "colab": {
          "base_uri": "https://localhost:8080/",
          "height": 419
        },
        "outputId": "615f8014-970a-4e5a-8d50-435936821f0d"
      },
      "source": [
        "# Load data into Pandas Dataframe\n",
        "import pandas as pd\n",
        "df = pd.read_csv('avocado.csv')\n",
        "df"
      ],
      "execution_count": 23,
      "outputs": [
        {
          "output_type": "execute_result",
          "data": {
            "text/html": [
              "<div>\n",
              "<style scoped>\n",
              "    .dataframe tbody tr th:only-of-type {\n",
              "        vertical-align: middle;\n",
              "    }\n",
              "\n",
              "    .dataframe tbody tr th {\n",
              "        vertical-align: top;\n",
              "    }\n",
              "\n",
              "    .dataframe thead th {\n",
              "        text-align: right;\n",
              "    }\n",
              "</style>\n",
              "<table border=\"1\" class=\"dataframe\">\n",
              "  <thead>\n",
              "    <tr style=\"text-align: right;\">\n",
              "      <th></th>\n",
              "      <th>Unnamed: 0</th>\n",
              "      <th>Date</th>\n",
              "      <th>AveragePrice</th>\n",
              "      <th>Total Volume</th>\n",
              "      <th>4046</th>\n",
              "      <th>4225</th>\n",
              "      <th>4770</th>\n",
              "      <th>Total Bags</th>\n",
              "      <th>Small Bags</th>\n",
              "      <th>Large Bags</th>\n",
              "      <th>XLarge Bags</th>\n",
              "      <th>type</th>\n",
              "      <th>year</th>\n",
              "      <th>region</th>\n",
              "    </tr>\n",
              "  </thead>\n",
              "  <tbody>\n",
              "    <tr>\n",
              "      <th>0</th>\n",
              "      <td>0</td>\n",
              "      <td>2015-12-27</td>\n",
              "      <td>1.33</td>\n",
              "      <td>64236.62</td>\n",
              "      <td>1036.74</td>\n",
              "      <td>54454.85</td>\n",
              "      <td>48.16</td>\n",
              "      <td>8696.87</td>\n",
              "      <td>8603.62</td>\n",
              "      <td>93.25</td>\n",
              "      <td>0.0</td>\n",
              "      <td>conventional</td>\n",
              "      <td>2015</td>\n",
              "      <td>Albany</td>\n",
              "    </tr>\n",
              "    <tr>\n",
              "      <th>1</th>\n",
              "      <td>1</td>\n",
              "      <td>2015-12-20</td>\n",
              "      <td>1.35</td>\n",
              "      <td>54876.98</td>\n",
              "      <td>674.28</td>\n",
              "      <td>44638.81</td>\n",
              "      <td>58.33</td>\n",
              "      <td>9505.56</td>\n",
              "      <td>9408.07</td>\n",
              "      <td>97.49</td>\n",
              "      <td>0.0</td>\n",
              "      <td>conventional</td>\n",
              "      <td>2015</td>\n",
              "      <td>Albany</td>\n",
              "    </tr>\n",
              "    <tr>\n",
              "      <th>2</th>\n",
              "      <td>2</td>\n",
              "      <td>2015-12-13</td>\n",
              "      <td>0.93</td>\n",
              "      <td>118220.22</td>\n",
              "      <td>794.70</td>\n",
              "      <td>109149.67</td>\n",
              "      <td>130.50</td>\n",
              "      <td>8145.35</td>\n",
              "      <td>8042.21</td>\n",
              "      <td>103.14</td>\n",
              "      <td>0.0</td>\n",
              "      <td>conventional</td>\n",
              "      <td>2015</td>\n",
              "      <td>Albany</td>\n",
              "    </tr>\n",
              "    <tr>\n",
              "      <th>3</th>\n",
              "      <td>3</td>\n",
              "      <td>2015-12-06</td>\n",
              "      <td>1.08</td>\n",
              "      <td>78992.15</td>\n",
              "      <td>1132.00</td>\n",
              "      <td>71976.41</td>\n",
              "      <td>72.58</td>\n",
              "      <td>5811.16</td>\n",
              "      <td>5677.40</td>\n",
              "      <td>133.76</td>\n",
              "      <td>0.0</td>\n",
              "      <td>conventional</td>\n",
              "      <td>2015</td>\n",
              "      <td>Albany</td>\n",
              "    </tr>\n",
              "    <tr>\n",
              "      <th>4</th>\n",
              "      <td>4</td>\n",
              "      <td>2015-11-29</td>\n",
              "      <td>1.28</td>\n",
              "      <td>51039.60</td>\n",
              "      <td>941.48</td>\n",
              "      <td>43838.39</td>\n",
              "      <td>75.78</td>\n",
              "      <td>6183.95</td>\n",
              "      <td>5986.26</td>\n",
              "      <td>197.69</td>\n",
              "      <td>0.0</td>\n",
              "      <td>conventional</td>\n",
              "      <td>2015</td>\n",
              "      <td>Albany</td>\n",
              "    </tr>\n",
              "    <tr>\n",
              "      <th>...</th>\n",
              "      <td>...</td>\n",
              "      <td>...</td>\n",
              "      <td>...</td>\n",
              "      <td>...</td>\n",
              "      <td>...</td>\n",
              "      <td>...</td>\n",
              "      <td>...</td>\n",
              "      <td>...</td>\n",
              "      <td>...</td>\n",
              "      <td>...</td>\n",
              "      <td>...</td>\n",
              "      <td>...</td>\n",
              "      <td>...</td>\n",
              "      <td>...</td>\n",
              "    </tr>\n",
              "    <tr>\n",
              "      <th>18244</th>\n",
              "      <td>7</td>\n",
              "      <td>2018-02-04</td>\n",
              "      <td>1.63</td>\n",
              "      <td>17074.83</td>\n",
              "      <td>2046.96</td>\n",
              "      <td>1529.20</td>\n",
              "      <td>0.00</td>\n",
              "      <td>13498.67</td>\n",
              "      <td>13066.82</td>\n",
              "      <td>431.85</td>\n",
              "      <td>0.0</td>\n",
              "      <td>organic</td>\n",
              "      <td>2018</td>\n",
              "      <td>WestTexNewMexico</td>\n",
              "    </tr>\n",
              "    <tr>\n",
              "      <th>18245</th>\n",
              "      <td>8</td>\n",
              "      <td>2018-01-28</td>\n",
              "      <td>1.71</td>\n",
              "      <td>13888.04</td>\n",
              "      <td>1191.70</td>\n",
              "      <td>3431.50</td>\n",
              "      <td>0.00</td>\n",
              "      <td>9264.84</td>\n",
              "      <td>8940.04</td>\n",
              "      <td>324.80</td>\n",
              "      <td>0.0</td>\n",
              "      <td>organic</td>\n",
              "      <td>2018</td>\n",
              "      <td>WestTexNewMexico</td>\n",
              "    </tr>\n",
              "    <tr>\n",
              "      <th>18246</th>\n",
              "      <td>9</td>\n",
              "      <td>2018-01-21</td>\n",
              "      <td>1.87</td>\n",
              "      <td>13766.76</td>\n",
              "      <td>1191.92</td>\n",
              "      <td>2452.79</td>\n",
              "      <td>727.94</td>\n",
              "      <td>9394.11</td>\n",
              "      <td>9351.80</td>\n",
              "      <td>42.31</td>\n",
              "      <td>0.0</td>\n",
              "      <td>organic</td>\n",
              "      <td>2018</td>\n",
              "      <td>WestTexNewMexico</td>\n",
              "    </tr>\n",
              "    <tr>\n",
              "      <th>18247</th>\n",
              "      <td>10</td>\n",
              "      <td>2018-01-14</td>\n",
              "      <td>1.93</td>\n",
              "      <td>16205.22</td>\n",
              "      <td>1527.63</td>\n",
              "      <td>2981.04</td>\n",
              "      <td>727.01</td>\n",
              "      <td>10969.54</td>\n",
              "      <td>10919.54</td>\n",
              "      <td>50.00</td>\n",
              "      <td>0.0</td>\n",
              "      <td>organic</td>\n",
              "      <td>2018</td>\n",
              "      <td>WestTexNewMexico</td>\n",
              "    </tr>\n",
              "    <tr>\n",
              "      <th>18248</th>\n",
              "      <td>11</td>\n",
              "      <td>2018-01-07</td>\n",
              "      <td>1.62</td>\n",
              "      <td>17489.58</td>\n",
              "      <td>2894.77</td>\n",
              "      <td>2356.13</td>\n",
              "      <td>224.53</td>\n",
              "      <td>12014.15</td>\n",
              "      <td>11988.14</td>\n",
              "      <td>26.01</td>\n",
              "      <td>0.0</td>\n",
              "      <td>organic</td>\n",
              "      <td>2018</td>\n",
              "      <td>WestTexNewMexico</td>\n",
              "    </tr>\n",
              "  </tbody>\n",
              "</table>\n",
              "<p>18249 rows × 14 columns</p>\n",
              "</div>"
            ],
            "text/plain": [
              "       Unnamed: 0        Date  ...  year            region\n",
              "0               0  2015-12-27  ...  2015            Albany\n",
              "1               1  2015-12-20  ...  2015            Albany\n",
              "2               2  2015-12-13  ...  2015            Albany\n",
              "3               3  2015-12-06  ...  2015            Albany\n",
              "4               4  2015-11-29  ...  2015            Albany\n",
              "...           ...         ...  ...   ...               ...\n",
              "18244           7  2018-02-04  ...  2018  WestTexNewMexico\n",
              "18245           8  2018-01-28  ...  2018  WestTexNewMexico\n",
              "18246           9  2018-01-21  ...  2018  WestTexNewMexico\n",
              "18247          10  2018-01-14  ...  2018  WestTexNewMexico\n",
              "18248          11  2018-01-07  ...  2018  WestTexNewMexico\n",
              "\n",
              "[18249 rows x 14 columns]"
            ]
          },
          "metadata": {
            "tags": []
          },
          "execution_count": 23
        }
      ]
    },
    {
      "cell_type": "code",
      "metadata": {
        "id": "-bxca7Pzcucp",
        "colab_type": "code",
        "colab": {
          "base_uri": "https://localhost:8080/",
          "height": 272
        },
        "outputId": "2111ae4f-6b56-4a7f-82fe-a57437140e26"
      },
      "source": [
        "#Does the dataset include any missing values? If so, delete the missing values entries\n",
        "df.isnull().sum(axis = 0)"
      ],
      "execution_count": 24,
      "outputs": [
        {
          "output_type": "execute_result",
          "data": {
            "text/plain": [
              "Unnamed: 0      0\n",
              "Date            0\n",
              "AveragePrice    0\n",
              "Total Volume    0\n",
              "4046            0\n",
              "4225            0\n",
              "4770            0\n",
              "Total Bags      0\n",
              "Small Bags      0\n",
              "Large Bags      0\n",
              "XLarge Bags     0\n",
              "type            0\n",
              "year            0\n",
              "region          0\n",
              "dtype: int64"
            ]
          },
          "metadata": {
            "tags": []
          },
          "execution_count": 24
        }
      ]
    },
    {
      "cell_type": "code",
      "metadata": {
        "id": "bgWvlzkOesOa",
        "colab_type": "code",
        "colab": {
          "base_uri": "https://localhost:8080/",
          "height": 204
        },
        "outputId": "4baa57f7-1067-48ab-e5f1-8a6d7d9c58ac"
      },
      "source": [
        "df2=df.drop(['region','Date','Unnamed: 0','4046','4225','4770'],axis=1)\n",
        "new_index=['type','AveragePrice','Total Volume','Total Bags','Small Bags','Large Bags','XLarge Bags','year']\n",
        "df2=df2.reindex(columns=new_index)\n",
        "# df2.set_index(['year', 'month'])\n",
        "df2.head()"
      ],
      "execution_count": 59,
      "outputs": [
        {
          "output_type": "execute_result",
          "data": {
            "text/html": [
              "<div>\n",
              "<style scoped>\n",
              "    .dataframe tbody tr th:only-of-type {\n",
              "        vertical-align: middle;\n",
              "    }\n",
              "\n",
              "    .dataframe tbody tr th {\n",
              "        vertical-align: top;\n",
              "    }\n",
              "\n",
              "    .dataframe thead th {\n",
              "        text-align: right;\n",
              "    }\n",
              "</style>\n",
              "<table border=\"1\" class=\"dataframe\">\n",
              "  <thead>\n",
              "    <tr style=\"text-align: right;\">\n",
              "      <th></th>\n",
              "      <th>type</th>\n",
              "      <th>AveragePrice</th>\n",
              "      <th>Total Volume</th>\n",
              "      <th>Total Bags</th>\n",
              "      <th>Small Bags</th>\n",
              "      <th>Large Bags</th>\n",
              "      <th>XLarge Bags</th>\n",
              "      <th>year</th>\n",
              "    </tr>\n",
              "  </thead>\n",
              "  <tbody>\n",
              "    <tr>\n",
              "      <th>0</th>\n",
              "      <td>conventional</td>\n",
              "      <td>1.33</td>\n",
              "      <td>64236.62</td>\n",
              "      <td>8696.87</td>\n",
              "      <td>8603.62</td>\n",
              "      <td>93.25</td>\n",
              "      <td>0.0</td>\n",
              "      <td>2015</td>\n",
              "    </tr>\n",
              "    <tr>\n",
              "      <th>1</th>\n",
              "      <td>conventional</td>\n",
              "      <td>1.35</td>\n",
              "      <td>54876.98</td>\n",
              "      <td>9505.56</td>\n",
              "      <td>9408.07</td>\n",
              "      <td>97.49</td>\n",
              "      <td>0.0</td>\n",
              "      <td>2015</td>\n",
              "    </tr>\n",
              "    <tr>\n",
              "      <th>2</th>\n",
              "      <td>conventional</td>\n",
              "      <td>0.93</td>\n",
              "      <td>118220.22</td>\n",
              "      <td>8145.35</td>\n",
              "      <td>8042.21</td>\n",
              "      <td>103.14</td>\n",
              "      <td>0.0</td>\n",
              "      <td>2015</td>\n",
              "    </tr>\n",
              "    <tr>\n",
              "      <th>3</th>\n",
              "      <td>conventional</td>\n",
              "      <td>1.08</td>\n",
              "      <td>78992.15</td>\n",
              "      <td>5811.16</td>\n",
              "      <td>5677.40</td>\n",
              "      <td>133.76</td>\n",
              "      <td>0.0</td>\n",
              "      <td>2015</td>\n",
              "    </tr>\n",
              "    <tr>\n",
              "      <th>4</th>\n",
              "      <td>conventional</td>\n",
              "      <td>1.28</td>\n",
              "      <td>51039.60</td>\n",
              "      <td>6183.95</td>\n",
              "      <td>5986.26</td>\n",
              "      <td>197.69</td>\n",
              "      <td>0.0</td>\n",
              "      <td>2015</td>\n",
              "    </tr>\n",
              "  </tbody>\n",
              "</table>\n",
              "</div>"
            ],
            "text/plain": [
              "           type  AveragePrice  Total Volume  ...  Large Bags  XLarge Bags  year\n",
              "0  conventional          1.33      64236.62  ...       93.25          0.0  2015\n",
              "1  conventional          1.35      54876.98  ...       97.49          0.0  2015\n",
              "2  conventional          0.93     118220.22  ...      103.14          0.0  2015\n",
              "3  conventional          1.08      78992.15  ...      133.76          0.0  2015\n",
              "4  conventional          1.28      51039.60  ...      197.69          0.0  2015\n",
              "\n",
              "[5 rows x 8 columns]"
            ]
          },
          "metadata": {
            "tags": []
          },
          "execution_count": 59
        }
      ]
    },
    {
      "cell_type": "code",
      "metadata": {
        "id": "Qv_yfMi0c3F8",
        "colab_type": "code",
        "colab": {
          "base_uri": "https://localhost:8080/",
          "height": 419
        },
        "outputId": "7b7b6b98-9e7d-42e6-f204-52c8e4c0752f"
      },
      "source": [
        "#Preprocessing\n",
        "from sklearn.preprocessing import LabelEncoder\n",
        "encoder = LabelEncoder()\n",
        "encoder.fit(df2['type'])\n",
        "df2['type']= encoder.transform(df2['type'])\n",
        "# breast_cencer.drop('id',axis=1,inplace=True)\n",
        "# breast_cancer.drop('Unnamed: 32',axis=1,inplace=True)\n",
        "# breast_cancer['diagnosis'] = breast_cancer['diagnosis'].map({'M':1,'B':0})\n",
        "# breast_cancer.head()\n",
        "df2.dropna()"
      ],
      "execution_count": 60,
      "outputs": [
        {
          "output_type": "execute_result",
          "data": {
            "text/html": [
              "<div>\n",
              "<style scoped>\n",
              "    .dataframe tbody tr th:only-of-type {\n",
              "        vertical-align: middle;\n",
              "    }\n",
              "\n",
              "    .dataframe tbody tr th {\n",
              "        vertical-align: top;\n",
              "    }\n",
              "\n",
              "    .dataframe thead th {\n",
              "        text-align: right;\n",
              "    }\n",
              "</style>\n",
              "<table border=\"1\" class=\"dataframe\">\n",
              "  <thead>\n",
              "    <tr style=\"text-align: right;\">\n",
              "      <th></th>\n",
              "      <th>type</th>\n",
              "      <th>AveragePrice</th>\n",
              "      <th>Total Volume</th>\n",
              "      <th>Total Bags</th>\n",
              "      <th>Small Bags</th>\n",
              "      <th>Large Bags</th>\n",
              "      <th>XLarge Bags</th>\n",
              "      <th>year</th>\n",
              "    </tr>\n",
              "  </thead>\n",
              "  <tbody>\n",
              "    <tr>\n",
              "      <th>0</th>\n",
              "      <td>0</td>\n",
              "      <td>1.33</td>\n",
              "      <td>64236.62</td>\n",
              "      <td>8696.87</td>\n",
              "      <td>8603.62</td>\n",
              "      <td>93.25</td>\n",
              "      <td>0.0</td>\n",
              "      <td>2015</td>\n",
              "    </tr>\n",
              "    <tr>\n",
              "      <th>1</th>\n",
              "      <td>0</td>\n",
              "      <td>1.35</td>\n",
              "      <td>54876.98</td>\n",
              "      <td>9505.56</td>\n",
              "      <td>9408.07</td>\n",
              "      <td>97.49</td>\n",
              "      <td>0.0</td>\n",
              "      <td>2015</td>\n",
              "    </tr>\n",
              "    <tr>\n",
              "      <th>2</th>\n",
              "      <td>0</td>\n",
              "      <td>0.93</td>\n",
              "      <td>118220.22</td>\n",
              "      <td>8145.35</td>\n",
              "      <td>8042.21</td>\n",
              "      <td>103.14</td>\n",
              "      <td>0.0</td>\n",
              "      <td>2015</td>\n",
              "    </tr>\n",
              "    <tr>\n",
              "      <th>3</th>\n",
              "      <td>0</td>\n",
              "      <td>1.08</td>\n",
              "      <td>78992.15</td>\n",
              "      <td>5811.16</td>\n",
              "      <td>5677.40</td>\n",
              "      <td>133.76</td>\n",
              "      <td>0.0</td>\n",
              "      <td>2015</td>\n",
              "    </tr>\n",
              "    <tr>\n",
              "      <th>4</th>\n",
              "      <td>0</td>\n",
              "      <td>1.28</td>\n",
              "      <td>51039.60</td>\n",
              "      <td>6183.95</td>\n",
              "      <td>5986.26</td>\n",
              "      <td>197.69</td>\n",
              "      <td>0.0</td>\n",
              "      <td>2015</td>\n",
              "    </tr>\n",
              "    <tr>\n",
              "      <th>...</th>\n",
              "      <td>...</td>\n",
              "      <td>...</td>\n",
              "      <td>...</td>\n",
              "      <td>...</td>\n",
              "      <td>...</td>\n",
              "      <td>...</td>\n",
              "      <td>...</td>\n",
              "      <td>...</td>\n",
              "    </tr>\n",
              "    <tr>\n",
              "      <th>18244</th>\n",
              "      <td>1</td>\n",
              "      <td>1.63</td>\n",
              "      <td>17074.83</td>\n",
              "      <td>13498.67</td>\n",
              "      <td>13066.82</td>\n",
              "      <td>431.85</td>\n",
              "      <td>0.0</td>\n",
              "      <td>2018</td>\n",
              "    </tr>\n",
              "    <tr>\n",
              "      <th>18245</th>\n",
              "      <td>1</td>\n",
              "      <td>1.71</td>\n",
              "      <td>13888.04</td>\n",
              "      <td>9264.84</td>\n",
              "      <td>8940.04</td>\n",
              "      <td>324.80</td>\n",
              "      <td>0.0</td>\n",
              "      <td>2018</td>\n",
              "    </tr>\n",
              "    <tr>\n",
              "      <th>18246</th>\n",
              "      <td>1</td>\n",
              "      <td>1.87</td>\n",
              "      <td>13766.76</td>\n",
              "      <td>9394.11</td>\n",
              "      <td>9351.80</td>\n",
              "      <td>42.31</td>\n",
              "      <td>0.0</td>\n",
              "      <td>2018</td>\n",
              "    </tr>\n",
              "    <tr>\n",
              "      <th>18247</th>\n",
              "      <td>1</td>\n",
              "      <td>1.93</td>\n",
              "      <td>16205.22</td>\n",
              "      <td>10969.54</td>\n",
              "      <td>10919.54</td>\n",
              "      <td>50.00</td>\n",
              "      <td>0.0</td>\n",
              "      <td>2018</td>\n",
              "    </tr>\n",
              "    <tr>\n",
              "      <th>18248</th>\n",
              "      <td>1</td>\n",
              "      <td>1.62</td>\n",
              "      <td>17489.58</td>\n",
              "      <td>12014.15</td>\n",
              "      <td>11988.14</td>\n",
              "      <td>26.01</td>\n",
              "      <td>0.0</td>\n",
              "      <td>2018</td>\n",
              "    </tr>\n",
              "  </tbody>\n",
              "</table>\n",
              "<p>18249 rows × 8 columns</p>\n",
              "</div>"
            ],
            "text/plain": [
              "       type  AveragePrice  Total Volume  ...  Large Bags  XLarge Bags  year\n",
              "0         0          1.33      64236.62  ...       93.25          0.0  2015\n",
              "1         0          1.35      54876.98  ...       97.49          0.0  2015\n",
              "2         0          0.93     118220.22  ...      103.14          0.0  2015\n",
              "3         0          1.08      78992.15  ...      133.76          0.0  2015\n",
              "4         0          1.28      51039.60  ...      197.69          0.0  2015\n",
              "...     ...           ...           ...  ...         ...          ...   ...\n",
              "18244     1          1.63      17074.83  ...      431.85          0.0  2018\n",
              "18245     1          1.71      13888.04  ...      324.80          0.0  2018\n",
              "18246     1          1.87      13766.76  ...       42.31          0.0  2018\n",
              "18247     1          1.93      16205.22  ...       50.00          0.0  2018\n",
              "18248     1          1.62      17489.58  ...       26.01          0.0  2018\n",
              "\n",
              "[18249 rows x 8 columns]"
            ]
          },
          "metadata": {
            "tags": []
          },
          "execution_count": 60
        }
      ]
    },
    {
      "cell_type": "code",
      "metadata": {
        "id": "6_FMNMX3iKaq",
        "colab_type": "code",
        "colab": {
          "base_uri": "https://localhost:8080/",
          "height": 170
        },
        "outputId": "003cdc34-b31e-452e-98ac-c1857f47f22b"
      },
      "source": [
        "a=df2[df2.columns[0:]].corr() ['AveragePrice'][:]\n",
        "a\n",
        "# result=a[abs(a)>0.6]\n",
        "# result"
      ],
      "execution_count": 61,
      "outputs": [
        {
          "output_type": "execute_result",
          "data": {
            "text/plain": [
              "type            0.615845\n",
              "AveragePrice    1.000000\n",
              "Total Volume   -0.192752\n",
              "Total Bags     -0.177088\n",
              "Small Bags     -0.174730\n",
              "Large Bags     -0.172940\n",
              "XLarge Bags    -0.117592\n",
              "year            0.093197\n",
              "Name: AveragePrice, dtype: float64"
            ]
          },
          "metadata": {
            "tags": []
          },
          "execution_count": 61
        }
      ]
    },
    {
      "cell_type": "code",
      "metadata": {
        "id": "5TmlpJM-IOgN",
        "colab_type": "code",
        "colab": {
          "base_uri": "https://localhost:8080/",
          "height": 559
        },
        "outputId": "a144e2f0-5cd8-4f7b-9603-525bb5ed8ac6"
      },
      "source": [
        "import matplotlib.pyplot as pl\n",
        "import seaborn as sns\n",
        "\n",
        "f, ax = pl.subplots(figsize=(10, 8))\n",
        "corr = df.corr()\n",
        "sns.heatmap(corr, mask=np.zeros_like(corr, dtype=np.bool), cmap=sns.diverging_palette(240,10,as_cmap=True),\n",
        "            square=True, ax=ax)"
      ],
      "execution_count": 62,
      "outputs": [
        {
          "output_type": "execute_result",
          "data": {
            "text/plain": [
              "<matplotlib.axes._subplots.AxesSubplot at 0x7f5e14a8ee10>"
            ]
          },
          "metadata": {
            "tags": []
          },
          "execution_count": 62
        },
        {
          "output_type": "display_data",
          "data": {
            "image/png": "[encoded data removed]",
            "text/plain": [
              "<Figure size 720x576 with 2 Axes>"
            ]
          },
          "metadata": {
            "tags": [],
            "needs_background": "light"
          }
        }
      ]
    },
    {
      "cell_type": "code",
      "metadata": {
        "id": "A-hCZnoGjPTS",
        "colab_type": "code",
        "colab": {
          "base_uri": "https://localhost:8080/",
          "height": 68
        },
        "outputId": "26203a9b-5537-4aeb-968e-e4b300cdb05f"
      },
      "source": [
        "import numpy as np\n",
        "from sklearn.preprocessing import StandardScaler\n",
        "scaler = StandardScaler()\n",
        "X = scaler.fit_transform(df2.iloc[:,1:])\n",
        "y = df2.iloc[:, 0].values\n",
        "print(y)\n",
        "from sklearn.model_selection import train_test_split\n",
        "X_train, X_test, y_train, y_test = train_test_split(X, y,test_size=0.2, random_state=0)\n",
        "X_test, X_val, y_test, y_val = train_test_split(X_train, y_train, test_size=0.5, random_state=1) \n",
        "\n",
        "from sklearn.neighbors import KNeighborsRegressor\n",
        "from sklearn.metrics import r2_score\n",
        "# Choose value of K\n",
        "K = 4\n",
        "model = KNeighborsRegressor(n_neighbors=K)\n",
        "model.fit(X_train, y_train)\n",
        "y_pred = model.predict(X_test) \n",
        "score = model.score(X_test,y_test)\n",
        "r2_score=r2_score(y_test,y_pred)\n",
        "print('r2_score: ',r2_score)\n",
        "\n",
        "\n",
        "# #import required packages\n",
        "# from sklearn import neighbors\n",
        "# from sklearn.metrics import mean_squared_error \n",
        "# from math import sqrt\n",
        "# import matplotlib.pyplot as plt\n",
        "# %matplotlib inline\n",
        "# rmse_val = [] #to store rmse values for different k\n",
        "# for K in range(20):\n",
        "#     K = K+1\n",
        "#     model = neighbors.KNeighborsRegressor(n_neighbors = K)\n",
        "\n",
        "#     model.fit(X_train, y_train)  #fit the model\n",
        "#     pred=model.predict(X_test) #make prediction on test set\n",
        "#     error = sqrt(mean_squared_error(y_test,pred)) #calculate rmse\n",
        "#     rmse_val.append(error) #store rmse values\n",
        "#     print('RMSE value for k= ' , K , 'is:', error)\n",
        "\n",
        "# #plotting the rmse values against k values\n",
        "# curve = pd.DataFrame(rmse_val) #elbow curve \n",
        "# curve.plot()\n",
        "\n",
        "#find the optimum value of 'n_neighbours'\n",
        "from sklearn.model_selection import GridSearchCV\n",
        "params = {'n_neighbors':range(1,15)}\n",
        "\n",
        "knn = neighbors.KNeighborsRegressor()\n",
        "\n",
        "model = GridSearchCV(knn, params, cv=5)\n",
        "model.fit(X_train,y_train)\n",
        "print('best parameter: ',model.best_params_)\n",
        "\n"
      ],
      "execution_count": 65,
      "outputs": [
        {
          "output_type": "stream",
          "text": [
            "[0 0 0 ... 1 1 1]\n",
            "r2_score:  0.9166323387220416\n",
            "best parameter:  {'n_neighbors': 4}\n"
          ],
          "name": "stdout"
        }
      ]
    },
    {
      "cell_type": "code",
      "metadata": {
        "id": "elgNk87tJXID",
        "colab_type": "code",
        "colab": {
          "base_uri": "https://localhost:8080/",
          "height": 300
        },
        "outputId": "9710b96c-2b30-4623-c611-2b095a8476cb"
      },
      "source": [
        "from sklearn.model_selection import cross_val_score\n",
        "from sklearn.model_selection import train_test_split\n",
        "from sklearn.neighbors import KNeighborsRegressor,KNeighborsClassifier\n",
        "from sklearn.metrics import r2_score\n",
        "from sklearn.ensemble import RandomForestClassifier\n",
        "from sklearn.metrics import precision_recall_curve\n",
        "from sklearn.model_selection import train_test_split\n",
        "# from sklearn import cross_validation\n",
        "from sklearn.neighbors import KNeighborsClassifier\n",
        "from sklearn.ensemble import RandomForestClassifier\n",
        "from sklearn.linear_model import LogisticRegression\n",
        "from sklearn.metrics import roc_curve, auc\n",
        "kfold = 7 \n",
        "result = {} \n",
        "trn_train, trn_test, trg_train, trg_test = train_test_split(X, y, test_size=0.25) \n",
        "knn = KNeighborsClassifier(n_neighbors = 200) \n",
        "log_reg = LogisticRegression( tol=0.001) \n",
        "scores = cross_val_score(knn, X, y, cv = kfold)\n",
        "result['KNeighborsClassifier'] = scores.mean()\n",
        "scores = cross_val_score(log_reg, X, y, cv = kfold)\n",
        "result['LogisticRegression'] = scores.mean()\n",
        "pl.clf()\n",
        "\n",
        "knn_result = knn.fit(trn_train, trg_train).predict_proba(trn_test)\n",
        "fpr, tpr, thresholds = roc_curve(trg_test, knn_result[:, 1])\n",
        "roc_auc  = auc(fpr, tpr)\n",
        "pl.plot(fpr, tpr, label='%s ROC (area = %0.2f)' % ('KNeighborsClassifier',roc_auc))\n",
        "\n",
        "logreg_result = log_reg.fit(trn_train, trg_train).predict_proba(trn_test)\n",
        "fpr, tpr, thresholds = roc_curve(trg_test, logreg_result[:, 1])\n",
        "roc_auc  = auc(fpr, tpr)\n",
        "pl.plot(fpr, tpr, label='%s ROC (area = %0.2f)' % ('LogisticRegression',roc_auc))\n",
        "pl.plot([0, 1], [0, 1], 'k--')\n",
        "pl.xlim([0.0, 1.0])\n",
        "pl.ylim([0.0, 1.0])\n",
        "pl.xlabel('False Positive Rate')\n",
        "pl.ylabel('True Positive Rate')\n",
        "pl.legend(loc=0, fontsize='small')"
      ],
      "execution_count": 67,
      "outputs": [
        {
          "output_type": "execute_result",
          "data": {
            "text/plain": [
              "<matplotlib.legend.Legend at 0x7f5e147e3550>"
            ]
          },
          "metadata": {
            "tags": []
          },
          "execution_count": 67
        },
        {
          "output_type": "display_data",
          "data": {
            "image/png": "[encoded data removed]",
            "text/plain": [
              "<Figure size 432x288 with 1 Axes>"
            ]
          },
          "metadata": {
            "tags": [],
            "needs_background": "light"
          }
        }
      ]
    }
  ]
}